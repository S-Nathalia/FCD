{
 "cells": [
  {
   "cell_type": "code",
   "execution_count": 4,
   "id": "24f48f6b",
   "metadata": {},
   "outputs": [],
   "source": [
    "import pandas as pd\n",
    "import matplotlib.pyplot as plt\n",
    "from matplotlib import style\n",
    "style.use('bmh')\n",
    "\n",
    "df = pd.read_csv('Vendas.csv', delimiter=',')\n"
   ]
  },
  {
   "cell_type": "code",
   "execution_count": 5,
   "id": "acc70c2b",
   "metadata": {},
   "outputs": [],
   "source": [
    "data = []\n",
    "dic = {}\n",
    "\n",
    "for index, row in df.iterrows():\n",
    "    data = list(map(int, row['Data Venda'].split('/')))\n",
    "    aux = data[2]\n",
    "    if aux in dic:\n",
    "        dic[data[2]] += row['ValorVenda']\n",
    "    else:\n",
    "        dic[data[2]] = row['ValorVenda']\n",
    "        "
   ]
  },
  {
   "cell_type": "code",
   "execution_count": 7,
   "id": "cdc4a361",
   "metadata": {},
   "outputs": [
    {
     "data": {
      "image/png": "[encoded data removed]",
      "text/plain": [
       "<Figure size 432x288 with 1 Axes>"
      ]
     },
     "metadata": {
      "needs_background": "light"
     },
     "output_type": "display_data"
    }
   ],
   "source": [
    "plt.bar(list(dic.keys()), list(dic.values()))\n",
    "plt.title(\"Total de vendas por ano.\")\n",
    "plt.xlabel(\"Anos\")\n",
    "plt.ylabel(\"Vendas em reais\")\n",
    "plt.show()\n"
   ]
  },
  {
   "cell_type": "markdown",
   "id": "b59a4fb1",
   "metadata": {},
   "source": [
    "## Busca H"
   ]
  },
  {
   "cell_type": "code",
   "execution_count": 9,
   "id": "53744088",
   "metadata": {},
   "outputs": [
    {
     "name": "stdout",
     "output_type": "stream",
     "text": [
      "Ranking Global: [['Geladeira Duplex', 717], ['Aspirador', 413], ['Micro-Ondas', 372], ['Impressora Deskjet', 312], ['Morotola Moto G5', 207], ['Samsung Galaxy 8', 160], ['Fritadeira', 158], ['Ventilador', 131], ['Lavadora 11 Kg', 101], ['Desktop HP 16 GB', 88], ['Secadora Vapor', 78], ['Ar Condicionado', 77], ['Forno-Micro-Ondas', 76], ['Processador de Alimentos', 68], ['Grill', 68], ['Notebook Dell 8 GB', 65], ['Liquidificador', 56], ['Sony Experia XA', 14], ['LG K10 TV Power', 4]]\n",
      "Loja: BA7783, item: [['Impressora Deskjet', 78], ['Geladeira Duplex', 55], ['Micro-Ondas', 41], ['Liquidificador', 39], ['Aspirador', 34], ['Ar Condicionado', 16], ['Morotola Moto G5', 11], ['Lavadora 11 Kg', 10], ['Processador de Alimentos', 8], ['Sony Experia XA', 8], ['Ventilador', 8], ['Fritadeira', 6], ['Notebook Dell 8 GB', 4], ['Secadora Vapor', 4], ['Desktop HP 16 GB', 3]]\n",
      "Loja: JB6325, item: [['Ventilador', 7], ['Samsung Galaxy 8', 7], ['Notebook Dell 8 GB', 7], ['Ar Condicionado', 3], ['Geladeira Duplex', 2]]\n",
      "Loja: JP8825, item: [['Geladeira Duplex', 82], ['Aspirador', 36], ['Secadora Vapor', 16], ['Micro-Ondas', 15], ['Notebook Dell 8 GB', 14], ['Lavadora 11 Kg', 14], ['Fritadeira', 12], ['Desktop HP 16 GB', 11], ['Morotola Moto G5', 10], ['Ventilador', 8], ['Samsung Galaxy 8', 7], ['Grill', 6], ['Ar Condicionado', 6], ['Liquidificador', 6], ['Sony Experia XA', 6], ['Forno-Micro-Ondas', 5], ['Impressora Deskjet', 2]]\n",
      "Loja: RG7742, item: [['Micro-Ondas', 127], ['Aspirador', 90], ['Geladeira Duplex', 57], ['Morotola Moto G5', 54], ['Processador de Alimentos', 36], ['Impressora Deskjet', 12], ['Samsung Galaxy 8', 9], ['Ventilador', 4], ['Forno-Micro-Ondas', 4], ['Ar Condicionado', 4], ['Notebook Dell 8 GB', 4], ['Fritadeira', 3], ['Grill', 3]]\n",
      "Loja: GA7751, item: [['Impressora Deskjet', 56], ['Geladeira Duplex', 42], ['Aspirador', 29], ['Fritadeira', 24], ['Samsung Galaxy 8', 19], ['Forno-Micro-Ondas', 17], ['Grill', 13], ['Desktop HP 16 GB', 9], ['Micro-Ondas', 7], ['Ventilador', 6], ['Lavadora 11 Kg', 4], ['Morotola Moto G5', 4], ['Secadora Vapor', 4], ['Ar Condicionado', 3]]\n",
      "Loja: R1296, item: [['Geladeira Duplex', 403], ['Aspirador', 210], ['Micro-Ondas', 163], ['Impressora Deskjet', 119], ['Samsung Galaxy 8', 118], ['Fritadeira', 113], ['Ventilador', 88], ['Morotola Moto G5', 83], ['Lavadora 11 Kg', 73], ['Desktop HP 16 GB', 57], ['Secadora Vapor', 54], ['Forno-Micro-Ondas', 50], ['Grill', 46], ['Ar Condicionado', 43], ['Notebook Dell 8 GB', 33], ['Liquidificador', 11], ['Processador de Alimentos', 5], ['LG K10 TV Power', 4]]\n",
      "Loja: AL1312, item: [['Geladeira Duplex', 76], ['Morotola Moto G5', 45], ['Impressora Deskjet', 45], ['Processador de Alimentos', 19], ['Micro-Ondas', 19], ['Aspirador', 14], ['Ventilador', 10], ['Desktop HP 16 GB', 8], ['Notebook Dell 8 GB', 3], ['Ar Condicionado', 2]]\n"
     ]
    }
   ],
   "source": [
    "# carregando base de dados em formato de tupla\n",
    "# (nome_item, nome_loja)\n",
    "\n",
    "prodLoja = []\n",
    "for index, row in df.iterrows():\n",
    "    prodLoja.append(tuple([row['Produto'], row['Loja']]))\n",
    "\n",
    "\n",
    "# --------------------- 1a parte da questao -------------------------------- \n",
    "''' prodLoja(produto/item[0], loja[1]) '''\n",
    "dicItems = {x[0] for x in prodLoja} \n",
    "qntItemsGlobal = []\n",
    "\n",
    "''' adicionando em qntItemsGlobal o produto e sua quantidade '''\n",
    "for item in dicItems:\n",
    "    qntItemsGlobal.append([item, [x[0] for x in prodLoja].count(item)])\n",
    "\n",
    "''' ordenando em ordem decrescente '''\n",
    "ordItems = sorted(qntItemsGlobal, key = lambda x : x[1], reverse = True)\n",
    "print(f'Ranking Global: {ordItems}')\n",
    "#TODO : Plot grafico\n",
    "\n",
    "# --------------------- 2a parte da questao --------------------------------\n",
    "''' preechendo dicLojas com todas as lojas da base. \n",
    "    prodLoja(produto/item[0], loja[1]) '''\n",
    "dicLojas = {x[1] for x in prodLoja} \n",
    "\n",
    "''' para cada loja, é adicionada os items respectivos a ela em itemLoja\n",
    "    se a loja da dupla verificada for a mesma que a loja verificada a vez\n",
    "    idemLoja recebe (item, loja). '''\n",
    "for loja in dicLojas:\n",
    "    itemLoja = []\n",
    "    for dupla in prodLoja:\n",
    "        if dupla[1] == loja:\n",
    "            itemLoja.append(dupla)\n",
    "    ordItemLoja = []\n",
    "\n",
    "    ''' set = conjunto disjunto; items nao repetidos\n",
    "        ordItemLoja recebe o item e a quantidade do mesmo para a loja em questao\n",
    "        ordItemLoja é ordenado '''\n",
    "    for item in set(itemLoja):\n",
    "        ordItemLoja.append([item[0], itemLoja.count(item)])\n",
    "    ordItemLoja = sorted(ordItemLoja, key = lambda x : x[1], reverse = True)\n",
    "    #TODO: plot do grafigo da loja \n",
    "    print(f'Loja: {loja}, item: {ordItemLoja}')\n",
    "    \n",
    "        "
   ]
  },
  {
   "cell_type": "code",
   "execution_count": null,
   "id": "bb0d91b9",
   "metadata": {},
   "outputs": [],
   "source": []
  }
 ],
 "metadata": {
  "kernelspec": {
   "display_name": "Python 3",
   "language": "python",
   "name": "python3"
  },
  "language_info": {
   "codemirror_mode": {
    "name": "ipython",
    "version": 3
   },
   "file_extension": ".py",
   "mimetype": "text/x-python",
   "name": "python",
   "nbconvert_exporter": "python",
   "pygments_lexer": "ipython3",
   "version": "3.9.4"
  }
 },
 "nbformat": 4,
 "nbformat_minor": 5
}
